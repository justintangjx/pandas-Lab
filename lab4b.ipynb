{
 "nbformat": 4,
 "nbformat_minor": 2,
 "metadata": {
  "language_info": {
   "name": "python",
   "codemirror_mode": {
    "name": "ipython",
    "version": 3
   },
   "version": "3.7.4-final"
  },
  "orig_nbformat": 2,
  "file_extension": ".py",
  "mimetype": "text/x-python",
  "name": "python",
  "npconvert_exporter": "python",
  "pygments_lexer": "ipython3",
  "version": 3,
  "kernelspec": {
   "name": "python37464bitbaseconda7e0b0a6604e14ef3b919325878552e23",
   "display_name": "Python 3.7.4 64-bit ('base': conda)"
  }
 },
 "cells": [
  {
   "cell_type": "code",
   "execution_count": 12,
   "metadata": {},
   "outputs": [
    {
     "data": {
      "image/png": "[encoded data removed]",
      "text/plain": "<Figure size 432x288 with 1 Axes>"
     },
     "metadata": {
      "needs_background": "light"
     },
     "output_type": "display_data"
    }
   ],
   "source": [
    "import pandas as pd\n",
    "pd.__version__\n",
    "import matplotlib.pyplot as plt\n",
    "import numpy as np\n",
    "\n",
    "df_rainfall = pd.read_csv('./rainfall-monthly-total.csv', index_col=\"month\")\n",
    "\n",
    "moreThan300DF = df_rainfall.loc[df_rainfall['total_rainfall'] > 300]\n",
    "top12 = moreThan300DF.sort_values(by='total_rainfall', ascending=False).head(12)\n",
    "# top12.count()\n",
    "index = np.arange(12)\n",
    "plt.bar(index, top12['total_rainfall'])\n",
    "plt.xlabel('month', fontsize=8)\n",
    "plt.xticks(index, top12.index, fontsize=6)\n",
    "\n",
    "plt.show()\n"
   ]
  },
  {
   "cell_type": "code",
   "execution_count": null,
   "metadata": {},
   "outputs": [],
   "source": []
  }
 ]
}