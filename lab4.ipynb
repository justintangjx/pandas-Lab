{
 "nbformat": 4,
 "nbformat_minor": 2,
 "metadata": {
  "language_info": {
   "name": "python",
   "codemirror_mode": {
    "name": "ipython",
    "version": 3
   },
   "version": "3.7.4-final"
  },
  "orig_nbformat": 2,
  "file_extension": ".py",
  "mimetype": "text/x-python",
  "name": "python",
  "npconvert_exporter": "python",
  "pygments_lexer": "ipython3",
  "version": 3,
  "kernelspec": {
   "name": "python37464bitbaseconda7e0b0a6604e14ef3b919325878552e23",
   "display_name": "Python 3.7.4 64-bit ('base': conda)"
  }
 },
 "cells": [
  {
   "cell_type": "code",
   "execution_count": 1,
   "metadata": {},
   "outputs": [
    {
     "data": {
      "text/plain": "'0.25.1'"
     },
     "execution_count": 1,
     "metadata": {},
     "output_type": "execute_result"
    }
   ],
   "source": [
    "import pandas as pd\n",
    "pd.__version__"
   ]
  },
  {
   "cell_type": "code",
   "execution_count": 11,
   "metadata": {},
   "outputs": [
    {
     "data": {
      "text/plain": "Variables\nTotal                  1651500\nSingle                  674100\nMarried                 864600\nWidowed                  97100\nDivorced/ Separated      15800\nMales                   833500\nSingle                  375800\nMarried                 435900\nWidowed                  16000\nDivorced/ Separated       5700\nFemales                 818000\nSingle                  298300\nMarried                 428700\nWidowed                  81100\nDivorced/ Separated      10100\nName: 1980, dtype: int64"
     },
     "execution_count": 11,
     "metadata": {},
     "output_type": "execute_result"
    }
   ],
   "source": [
    "df = pd.read_excel('./singstats_maritalstatus.xlsx', index_col=\"Variables\")\n",
    "mydf = df['1980']\n",
    "mydf"
   ]
  },
  {
   "cell_type": "code",
   "execution_count": 33,
   "metadata": {},
   "outputs": [
    {
     "name": "stdout",
     "output_type": "stream",
     "text": "Variables\nTotal      1651500\nSingle      674100\nMarried     864600\nMales       833500\nFemales     818000\nName: 1980, dtype: int64\n5\n"
    }
   ],
   "source": [
    "print(mydf.loc[ mydf[:] > 500000])\n",
    "rowsMoreThan500k = mydf.loc[ mydf[:] > 500000].count()\n",
    "print(rowsMoreThan500k)"
   ]
  },
  {
   "cell_type": "code",
   "execution_count": 34,
   "metadata": {},
   "outputs": [
    {
     "name": "stdout",
     "output_type": "stream",
     "text": "Variables\nWidowed                 97100\nDivorced/ Separated     15800\nSingle                 375800\nMarried                435900\nWidowed                 16000\nDivorced/ Separated      5700\nSingle                 298300\nMarried                428700\nWidowed                 81100\nDivorced/ Separated     10100\nName: 1980, dtype: int64\n10\n"
    }
   ],
   "source": [
    "print(mydf.loc[ mydf[:] < 500000])\n",
    "rowsLessThan500k = mydf.loc[ mydf[:] < 500000].count()\n",
    "print(rowsLessThan500k)"
   ]
  },
  {
   "cell_type": "code",
   "execution_count": 52,
   "metadata": {},
   "outputs": [
    {
     "name": "stdout",
     "output_type": "stream",
     "text": "*** Data in 1980 column ***\nVariables\nTotal                  1651500\nSingle                  674100\nMarried                 864600\nWidowed                  97100\nDivorced/ Separated      15800\nMales                   833500\nSingle                  375800\nMarried                 435900\nWidowed                  16000\nDivorced/ Separated       5700\nFemales                 818000\nSingle                  298300\nMarried                 428700\nWidowed                  81100\nDivorced/ Separated      10100\nName: 1980, dtype: int64\n\n\nNumber of rows more than 500k is  5\nNumber of rows less than 500k is  10\n"
    }
   ],
   "source": [
    "print('*** Data in 1980 column ***')\n",
    "print(mydf)\n",
    "print('\\n')\n",
    "print('Number of rows more than 500k is ', rowsMoreThan500k)\n",
    "print('Number of rows less than 500k is ', rowsLessThan500k)"
   ]
  },
  {
   "cell_type": "code",
   "execution_count": 72,
   "metadata": {},
   "outputs": [
    {
     "data": {
      "text/html": "<div>\n<style scoped>\n    .dataframe tbody tr th:only-of-type {\n        vertical-align: middle;\n    }\n\n    .dataframe tbody tr th {\n        vertical-align: top;\n    }\n\n    .dataframe thead th {\n        text-align: right;\n    }\n</style>\n<table border=\"1\" class=\"dataframe\">\n  <thead>\n    <tr style=\"text-align: right;\">\n      <th></th>\n      <th>2010</th>\n      <th>2011</th>\n      <th>2012</th>\n      <th>2013</th>\n      <th>2014</th>\n      <th>2015</th>\n      <th>2016</th>\n    </tr>\n    <tr>\n      <th>Variables</th>\n      <th></th>\n      <th></th>\n      <th></th>\n      <th></th>\n      <th></th>\n      <th></th>\n      <th></th>\n    </tr>\n  </thead>\n  <tbody>\n    <tr>\n      <td>Total</td>\n      <td>3105700</td>\n      <td>3148700</td>\n      <td>3183000</td>\n      <td>3205900</td>\n      <td>3259800</td>\n      <td>3275900</td>\n      <td>3318500</td>\n    </tr>\n    <tr>\n      <td>Single</td>\n      <td>1000500</td>\n      <td>1012000</td>\n      <td>1022600</td>\n      <td>1029300</td>\n      <td>1048100</td>\n      <td>1034500</td>\n      <td>1049200</td>\n    </tr>\n    <tr>\n      <td>Married</td>\n      <td>1844600</td>\n      <td>1875900</td>\n      <td>1899000</td>\n      <td>1911500</td>\n      <td>1940100</td>\n      <td>1945600</td>\n      <td>1974700</td>\n    </tr>\n    <tr>\n      <td>Widowed</td>\n      <td>157600</td>\n      <td>157700</td>\n      <td>152300</td>\n      <td>158000</td>\n      <td>161100</td>\n      <td>172100</td>\n      <td>174600</td>\n    </tr>\n    <tr>\n      <td>Divorced/ Separated</td>\n      <td>103100</td>\n      <td>103000</td>\n      <td>109200</td>\n      <td>107200</td>\n      <td>110600</td>\n      <td>123600</td>\n      <td>119900</td>\n    </tr>\n    <tr>\n      <td>Males</td>\n      <td>1517400</td>\n      <td>1534200</td>\n      <td>1550000</td>\n      <td>1560900</td>\n      <td>1583900</td>\n      <td>1589600</td>\n      <td>1607500</td>\n    </tr>\n    <tr>\n      <td>Single</td>\n      <td>527100</td>\n      <td>529600</td>\n      <td>534700</td>\n      <td>535100</td>\n      <td>538500</td>\n      <td>533200</td>\n      <td>539700</td>\n    </tr>\n    <tr>\n      <td>Married</td>\n      <td>928400</td>\n      <td>944300</td>\n      <td>952200</td>\n      <td>963100</td>\n      <td>980800</td>\n      <td>984700</td>\n      <td>993900</td>\n    </tr>\n    <tr>\n      <td>Widowed</td>\n      <td>24900</td>\n      <td>25700</td>\n      <td>25700</td>\n      <td>25700</td>\n      <td>27300</td>\n      <td>28900</td>\n      <td>29900</td>\n    </tr>\n    <tr>\n      <td>Divorced/ Separated</td>\n      <td>37100</td>\n      <td>34600</td>\n      <td>37500</td>\n      <td>37000</td>\n      <td>37300</td>\n      <td>42700</td>\n      <td>44100</td>\n    </tr>\n    <tr>\n      <td>Females</td>\n      <td>1588300</td>\n      <td>1614500</td>\n      <td>1633000</td>\n      <td>1645000</td>\n      <td>1675900</td>\n      <td>1686300</td>\n      <td>1711000</td>\n    </tr>\n    <tr>\n      <td>Single</td>\n      <td>473400</td>\n      <td>482400</td>\n      <td>487900</td>\n      <td>494100</td>\n      <td>509600</td>\n      <td>501300</td>\n      <td>509600</td>\n    </tr>\n    <tr>\n      <td>Married</td>\n      <td>916300</td>\n      <td>931600</td>\n      <td>946800</td>\n      <td>948400</td>\n      <td>959200</td>\n      <td>960900</td>\n      <td>980800</td>\n    </tr>\n    <tr>\n      <td>Widowed</td>\n      <td>132700</td>\n      <td>132000</td>\n      <td>126700</td>\n      <td>132300</td>\n      <td>133700</td>\n      <td>143200</td>\n      <td>144700</td>\n    </tr>\n    <tr>\n      <td>Divorced/ Separated</td>\n      <td>66000</td>\n      <td>68400</td>\n      <td>71700</td>\n      <td>70200</td>\n      <td>73300</td>\n      <td>80900</td>\n      <td>75900</td>\n    </tr>\n  </tbody>\n</table>\n</div>",
      "text/plain": "                        2010     2011     2012     2013     2014     2015  \\\nVariables                                                                   \nTotal                3105700  3148700  3183000  3205900  3259800  3275900   \nSingle               1000500  1012000  1022600  1029300  1048100  1034500   \nMarried              1844600  1875900  1899000  1911500  1940100  1945600   \nWidowed               157600   157700   152300   158000   161100   172100   \nDivorced/ Separated   103100   103000   109200   107200   110600   123600   \nMales                1517400  1534200  1550000  1560900  1583900  1589600   \nSingle                527100   529600   534700   535100   538500   533200   \nMarried               928400   944300   952200   963100   980800   984700   \nWidowed                24900    25700    25700    25700    27300    28900   \nDivorced/ Separated    37100    34600    37500    37000    37300    42700   \nFemales              1588300  1614500  1633000  1645000  1675900  1686300   \nSingle                473400   482400   487900   494100   509600   501300   \nMarried               916300   931600   946800   948400   959200   960900   \nWidowed               132700   132000   126700   132300   133700   143200   \nDivorced/ Separated    66000    68400    71700    70200    73300    80900   \n\n                        2016  \nVariables                     \nTotal                3318500  \nSingle               1049200  \nMarried              1974700  \nWidowed               174600  \nDivorced/ Separated   119900  \nMales                1607500  \nSingle                539700  \nMarried               993900  \nWidowed                29900  \nDivorced/ Separated    44100  \nFemales              1711000  \nSingle                509600  \nMarried               980800  \nWidowed               144700  \nDivorced/ Separated    75900  "
     },
     "execution_count": 72,
     "metadata": {},
     "output_type": "execute_result"
    }
   ],
   "source": [
    "contains201 = '^201'\n",
    "df_2010_and_after = df.filter(regex=contains201)\n",
    "df_2010_and_after"
   ]
  },
  {
   "cell_type": "code",
   "execution_count": 93,
   "metadata": {},
   "outputs": [
    {
     "name": "stdout",
     "output_type": "stream",
     "text": "**** First 10 rows of original dataset ***\n"
    },
    {
     "data": {
      "text/html": "<div>\n<style scoped>\n    .dataframe tbody tr th:only-of-type {\n        vertical-align: middle;\n    }\n\n    .dataframe tbody tr th {\n        vertical-align: top;\n    }\n\n    .dataframe thead th {\n        text-align: right;\n    }\n</style>\n<table border=\"1\" class=\"dataframe\">\n  <thead>\n    <tr style=\"text-align: right;\">\n      <th></th>\n      <th>1980</th>\n      <th>1981</th>\n      <th>1982</th>\n      <th>1983</th>\n      <th>1984</th>\n      <th>1985</th>\n      <th>1986</th>\n      <th>1987</th>\n      <th>1988</th>\n      <th>1989</th>\n      <th>...</th>\n      <th>2007</th>\n      <th>2008</th>\n      <th>2009</th>\n      <th>2010</th>\n      <th>2011</th>\n      <th>2012</th>\n      <th>2013</th>\n      <th>2014</th>\n      <th>2015</th>\n      <th>2016</th>\n    </tr>\n    <tr>\n      <th>Variables</th>\n      <th></th>\n      <th></th>\n      <th></th>\n      <th></th>\n      <th></th>\n      <th></th>\n      <th></th>\n      <th></th>\n      <th></th>\n      <th></th>\n      <th></th>\n      <th></th>\n      <th></th>\n      <th></th>\n      <th></th>\n      <th></th>\n      <th></th>\n      <th></th>\n      <th></th>\n      <th></th>\n      <th></th>\n    </tr>\n  </thead>\n  <tbody>\n    <tr>\n      <td>Total</td>\n      <td>1651500</td>\n      <td>NaN</td>\n      <td>NaN</td>\n      <td>1791900</td>\n      <td>1829000</td>\n      <td>1866700</td>\n      <td>1906600</td>\n      <td>1947600</td>\n      <td>1990000</td>\n      <td>2032400</td>\n      <td>...</td>\n      <td>2944600</td>\n      <td>2938800</td>\n      <td>3034800</td>\n      <td>3105700</td>\n      <td>3148700</td>\n      <td>3183000</td>\n      <td>3205900</td>\n      <td>3259800</td>\n      <td>3275900</td>\n      <td>3318500</td>\n    </tr>\n    <tr>\n      <td>Single</td>\n      <td>674100</td>\n      <td>NaN</td>\n      <td>NaN</td>\n      <td>728000</td>\n      <td>714300</td>\n      <td>726600</td>\n      <td>736500</td>\n      <td>735200</td>\n      <td>745700</td>\n      <td>752800</td>\n      <td>...</td>\n      <td>918400</td>\n      <td>918700</td>\n      <td>957600</td>\n      <td>1000500</td>\n      <td>1012000</td>\n      <td>1022600</td>\n      <td>1029300</td>\n      <td>1048100</td>\n      <td>1034500</td>\n      <td>1049200</td>\n    </tr>\n    <tr>\n      <td>Married</td>\n      <td>864600</td>\n      <td>NaN</td>\n      <td>NaN</td>\n      <td>951200</td>\n      <td>1005100</td>\n      <td>1020100</td>\n      <td>1039700</td>\n      <td>1083300</td>\n      <td>1112200</td>\n      <td>1137800</td>\n      <td>...</td>\n      <td>1787100</td>\n      <td>1783700</td>\n      <td>1831300</td>\n      <td>1844600</td>\n      <td>1875900</td>\n      <td>1899000</td>\n      <td>1911500</td>\n      <td>1940100</td>\n      <td>1945600</td>\n      <td>1974700</td>\n    </tr>\n    <tr>\n      <td>Widowed</td>\n      <td>97100</td>\n      <td>NaN</td>\n      <td>NaN</td>\n      <td>101700</td>\n      <td>92800</td>\n      <td>99200</td>\n      <td>108200</td>\n      <td>106900</td>\n      <td>108100</td>\n      <td>116200</td>\n      <td>...</td>\n      <td>155600</td>\n      <td>146900</td>\n      <td>152700</td>\n      <td>157600</td>\n      <td>157700</td>\n      <td>152300</td>\n      <td>158000</td>\n      <td>161100</td>\n      <td>172100</td>\n      <td>174600</td>\n    </tr>\n    <tr>\n      <td>Divorced/ Separated</td>\n      <td>15800</td>\n      <td>NaN</td>\n      <td>NaN</td>\n      <td>11000</td>\n      <td>16700</td>\n      <td>20800</td>\n      <td>22300</td>\n      <td>22200</td>\n      <td>24100</td>\n      <td>25700</td>\n      <td>...</td>\n      <td>83600</td>\n      <td>89500</td>\n      <td>93200</td>\n      <td>103100</td>\n      <td>103000</td>\n      <td>109200</td>\n      <td>107200</td>\n      <td>110600</td>\n      <td>123600</td>\n      <td>119900</td>\n    </tr>\n    <tr>\n      <td>Males</td>\n      <td>833500</td>\n      <td>NaN</td>\n      <td>NaN</td>\n      <td>901700</td>\n      <td>912200</td>\n      <td>929800</td>\n      <td>948000</td>\n      <td>974100</td>\n      <td>994400</td>\n      <td>1007900</td>\n      <td>...</td>\n      <td>1438300</td>\n      <td>1437200</td>\n      <td>1477500</td>\n      <td>1517400</td>\n      <td>1534200</td>\n      <td>1550000</td>\n      <td>1560900</td>\n      <td>1583900</td>\n      <td>1589600</td>\n      <td>1607500</td>\n    </tr>\n    <tr>\n      <td>Single</td>\n      <td>375800</td>\n      <td>NaN</td>\n      <td>NaN</td>\n      <td>404700</td>\n      <td>393400</td>\n      <td>400100</td>\n      <td>408100</td>\n      <td>410800</td>\n      <td>416100</td>\n      <td>418000</td>\n      <td>...</td>\n      <td>487500</td>\n      <td>488900</td>\n      <td>505100</td>\n      <td>527100</td>\n      <td>529600</td>\n      <td>534700</td>\n      <td>535100</td>\n      <td>538500</td>\n      <td>533200</td>\n      <td>539700</td>\n    </tr>\n    <tr>\n      <td>Married</td>\n      <td>435900</td>\n      <td>NaN</td>\n      <td>NaN</td>\n      <td>476300</td>\n      <td>499600</td>\n      <td>506500</td>\n      <td>517100</td>\n      <td>539600</td>\n      <td>553300</td>\n      <td>563800</td>\n      <td>...</td>\n      <td>894700</td>\n      <td>896300</td>\n      <td>913300</td>\n      <td>928400</td>\n      <td>944300</td>\n      <td>952200</td>\n      <td>963100</td>\n      <td>980800</td>\n      <td>984700</td>\n      <td>993900</td>\n    </tr>\n    <tr>\n      <td>Widowed</td>\n      <td>16000</td>\n      <td>NaN</td>\n      <td>NaN</td>\n      <td>16600</td>\n      <td>13600</td>\n      <td>16200</td>\n      <td>15500</td>\n      <td>16100</td>\n      <td>17000</td>\n      <td>17900</td>\n      <td>...</td>\n      <td>26400</td>\n      <td>22700</td>\n      <td>26600</td>\n      <td>24900</td>\n      <td>25700</td>\n      <td>25700</td>\n      <td>25700</td>\n      <td>27300</td>\n      <td>28900</td>\n      <td>29900</td>\n    </tr>\n    <tr>\n      <td>Divorced/ Separated</td>\n      <td>5700</td>\n      <td>NaN</td>\n      <td>NaN</td>\n      <td>4100</td>\n      <td>5600</td>\n      <td>7000</td>\n      <td>7300</td>\n      <td>7700</td>\n      <td>8000</td>\n      <td>8200</td>\n      <td>...</td>\n      <td>29700</td>\n      <td>29300</td>\n      <td>32400</td>\n      <td>37100</td>\n      <td>34600</td>\n      <td>37500</td>\n      <td>37000</td>\n      <td>37300</td>\n      <td>42700</td>\n      <td>44100</td>\n    </tr>\n  </tbody>\n</table>\n<p>10 rows × 37 columns</p>\n</div>",
      "text/plain": "                        1980  1981  1982     1983     1984     1985     1986  \\\nVariables                                                                      \nTotal                1651500   NaN   NaN  1791900  1829000  1866700  1906600   \nSingle                674100   NaN   NaN   728000   714300   726600   736500   \nMarried               864600   NaN   NaN   951200  1005100  1020100  1039700   \nWidowed                97100   NaN   NaN   101700    92800    99200   108200   \nDivorced/ Separated    15800   NaN   NaN    11000    16700    20800    22300   \nMales                 833500   NaN   NaN   901700   912200   929800   948000   \nSingle                375800   NaN   NaN   404700   393400   400100   408100   \nMarried               435900   NaN   NaN   476300   499600   506500   517100   \nWidowed                16000   NaN   NaN    16600    13600    16200    15500   \nDivorced/ Separated     5700   NaN   NaN     4100     5600     7000     7300   \n\n                        1987     1988     1989  ...     2007     2008  \\\nVariables                                       ...                     \nTotal                1947600  1990000  2032400  ...  2944600  2938800   \nSingle                735200   745700   752800  ...   918400   918700   \nMarried              1083300  1112200  1137800  ...  1787100  1783700   \nWidowed               106900   108100   116200  ...   155600   146900   \nDivorced/ Separated    22200    24100    25700  ...    83600    89500   \nMales                 974100   994400  1007900  ...  1438300  1437200   \nSingle                410800   416100   418000  ...   487500   488900   \nMarried               539600   553300   563800  ...   894700   896300   \nWidowed                16100    17000    17900  ...    26400    22700   \nDivorced/ Separated     7700     8000     8200  ...    29700    29300   \n\n                        2009     2010     2011     2012     2013     2014  \\\nVariables                                                                   \nTotal                3034800  3105700  3148700  3183000  3205900  3259800   \nSingle                957600  1000500  1012000  1022600  1029300  1048100   \nMarried              1831300  1844600  1875900  1899000  1911500  1940100   \nWidowed               152700   157600   157700   152300   158000   161100   \nDivorced/ Separated    93200   103100   103000   109200   107200   110600   \nMales                1477500  1517400  1534200  1550000  1560900  1583900   \nSingle                505100   527100   529600   534700   535100   538500   \nMarried               913300   928400   944300   952200   963100   980800   \nWidowed                26600    24900    25700    25700    25700    27300   \nDivorced/ Separated    32400    37100    34600    37500    37000    37300   \n\n                        2015     2016  \nVariables                              \nTotal                3275900  3318500  \nSingle               1034500  1049200  \nMarried              1945600  1974700  \nWidowed               172100   174600  \nDivorced/ Separated   123600   119900  \nMales                1589600  1607500  \nSingle                533200   539700  \nMarried               984700   993900  \nWidowed                28900    29900  \nDivorced/ Separated    42700    44100  \n\n[10 rows x 37 columns]"
     },
     "execution_count": 93,
     "metadata": {},
     "output_type": "execute_result"
    }
   ],
   "source": [
    "newDF = df.head(10)\n",
    "import numpy as np\n",
    "print(\" **** First 10 rows of original dataset ***\")\n",
    "myDF = newDF.replace('-', np.nan)\n",
    "myDF"
   ]
  },
  {
   "cell_type": "code",
   "execution_count": 102,
   "metadata": {},
   "outputs": [
    {
     "name": "stdout",
     "output_type": "stream",
     "text": "**** Remaining dataset after dropping columns with missing data **** \n"
    },
    {
     "data": {
      "text/html": "<div>\n<style scoped>\n    .dataframe tbody tr th:only-of-type {\n        vertical-align: middle;\n    }\n\n    .dataframe tbody tr th {\n        vertical-align: top;\n    }\n\n    .dataframe thead th {\n        text-align: right;\n    }\n</style>\n<table border=\"1\" class=\"dataframe\">\n  <thead>\n    <tr style=\"text-align: right;\">\n      <th></th>\n      <th>1980</th>\n      <th>1983</th>\n      <th>1984</th>\n      <th>1985</th>\n      <th>1986</th>\n      <th>1987</th>\n      <th>1988</th>\n      <th>1989</th>\n      <th>1990</th>\n      <th>1991</th>\n      <th>...</th>\n      <th>2007</th>\n      <th>2008</th>\n      <th>2009</th>\n      <th>2010</th>\n      <th>2011</th>\n      <th>2012</th>\n      <th>2013</th>\n      <th>2014</th>\n      <th>2015</th>\n      <th>2016</th>\n    </tr>\n    <tr>\n      <th>Variables</th>\n      <th></th>\n      <th></th>\n      <th></th>\n      <th></th>\n      <th></th>\n      <th></th>\n      <th></th>\n      <th></th>\n      <th></th>\n      <th></th>\n      <th></th>\n      <th></th>\n      <th></th>\n      <th></th>\n      <th></th>\n      <th></th>\n      <th></th>\n      <th></th>\n      <th></th>\n      <th></th>\n      <th></th>\n    </tr>\n  </thead>\n  <tbody>\n    <tr>\n      <td>Total</td>\n      <td>1651500</td>\n      <td>1791900</td>\n      <td>1829000</td>\n      <td>1866700</td>\n      <td>1906600</td>\n      <td>1947600</td>\n      <td>1990000</td>\n      <td>2032400</td>\n      <td>2078800</td>\n      <td>2153700</td>\n      <td>...</td>\n      <td>2944600</td>\n      <td>2938800</td>\n      <td>3034800</td>\n      <td>3105700</td>\n      <td>3148700</td>\n      <td>3183000</td>\n      <td>3205900</td>\n      <td>3259800</td>\n      <td>3275900</td>\n      <td>3318500</td>\n    </tr>\n    <tr>\n      <td>Single</td>\n      <td>674100</td>\n      <td>728000</td>\n      <td>714300</td>\n      <td>726600</td>\n      <td>736500</td>\n      <td>735200</td>\n      <td>745700</td>\n      <td>752800</td>\n      <td>747200</td>\n      <td>760100</td>\n      <td>...</td>\n      <td>918400</td>\n      <td>918700</td>\n      <td>957600</td>\n      <td>1000500</td>\n      <td>1012000</td>\n      <td>1022600</td>\n      <td>1029300</td>\n      <td>1048100</td>\n      <td>1034500</td>\n      <td>1049200</td>\n    </tr>\n    <tr>\n      <td>Married</td>\n      <td>864600</td>\n      <td>951200</td>\n      <td>1005100</td>\n      <td>1020100</td>\n      <td>1039700</td>\n      <td>1083300</td>\n      <td>1112200</td>\n      <td>1137800</td>\n      <td>1176400</td>\n      <td>1240000</td>\n      <td>...</td>\n      <td>1787100</td>\n      <td>1783700</td>\n      <td>1831300</td>\n      <td>1844600</td>\n      <td>1875900</td>\n      <td>1899000</td>\n      <td>1911500</td>\n      <td>1940100</td>\n      <td>1945600</td>\n      <td>1974700</td>\n    </tr>\n    <tr>\n      <td>Widowed</td>\n      <td>97100</td>\n      <td>101700</td>\n      <td>92800</td>\n      <td>99200</td>\n      <td>108200</td>\n      <td>106900</td>\n      <td>108100</td>\n      <td>116200</td>\n      <td>127300</td>\n      <td>121300</td>\n      <td>...</td>\n      <td>155600</td>\n      <td>146900</td>\n      <td>152700</td>\n      <td>157600</td>\n      <td>157700</td>\n      <td>152300</td>\n      <td>158000</td>\n      <td>161100</td>\n      <td>172100</td>\n      <td>174600</td>\n    </tr>\n    <tr>\n      <td>Divorced/ Separated</td>\n      <td>15800</td>\n      <td>11000</td>\n      <td>16700</td>\n      <td>20800</td>\n      <td>22300</td>\n      <td>22200</td>\n      <td>24100</td>\n      <td>25700</td>\n      <td>27900</td>\n      <td>32300</td>\n      <td>...</td>\n      <td>83600</td>\n      <td>89500</td>\n      <td>93200</td>\n      <td>103100</td>\n      <td>103000</td>\n      <td>109200</td>\n      <td>107200</td>\n      <td>110600</td>\n      <td>123600</td>\n      <td>119900</td>\n    </tr>\n    <tr>\n      <td>Males</td>\n      <td>833500</td>\n      <td>901700</td>\n      <td>912200</td>\n      <td>929800</td>\n      <td>948000</td>\n      <td>974100</td>\n      <td>994400</td>\n      <td>1007900</td>\n      <td>1045600</td>\n      <td>1077800</td>\n      <td>...</td>\n      <td>1438300</td>\n      <td>1437200</td>\n      <td>1477500</td>\n      <td>1517400</td>\n      <td>1534200</td>\n      <td>1550000</td>\n      <td>1560900</td>\n      <td>1583900</td>\n      <td>1589600</td>\n      <td>1607500</td>\n    </tr>\n    <tr>\n      <td>Single</td>\n      <td>375800</td>\n      <td>404700</td>\n      <td>393400</td>\n      <td>400100</td>\n      <td>408100</td>\n      <td>410800</td>\n      <td>416100</td>\n      <td>418000</td>\n      <td>422600</td>\n      <td>424900</td>\n      <td>...</td>\n      <td>487500</td>\n      <td>488900</td>\n      <td>505100</td>\n      <td>527100</td>\n      <td>529600</td>\n      <td>534700</td>\n      <td>535100</td>\n      <td>538500</td>\n      <td>533200</td>\n      <td>539700</td>\n    </tr>\n    <tr>\n      <td>Married</td>\n      <td>435900</td>\n      <td>476300</td>\n      <td>499600</td>\n      <td>506500</td>\n      <td>517100</td>\n      <td>539600</td>\n      <td>553300</td>\n      <td>563800</td>\n      <td>586700</td>\n      <td>621600</td>\n      <td>...</td>\n      <td>894700</td>\n      <td>896300</td>\n      <td>913300</td>\n      <td>928400</td>\n      <td>944300</td>\n      <td>952200</td>\n      <td>963100</td>\n      <td>980800</td>\n      <td>984700</td>\n      <td>993900</td>\n    </tr>\n    <tr>\n      <td>Widowed</td>\n      <td>16000</td>\n      <td>16600</td>\n      <td>13600</td>\n      <td>16200</td>\n      <td>15500</td>\n      <td>16100</td>\n      <td>17000</td>\n      <td>17900</td>\n      <td>26100</td>\n      <td>20100</td>\n      <td>...</td>\n      <td>26400</td>\n      <td>22700</td>\n      <td>26600</td>\n      <td>24900</td>\n      <td>25700</td>\n      <td>25700</td>\n      <td>25700</td>\n      <td>27300</td>\n      <td>28900</td>\n      <td>29900</td>\n    </tr>\n    <tr>\n      <td>Divorced/ Separated</td>\n      <td>5700</td>\n      <td>4100</td>\n      <td>5600</td>\n      <td>7000</td>\n      <td>7300</td>\n      <td>7700</td>\n      <td>8000</td>\n      <td>8200</td>\n      <td>10200</td>\n      <td>11100</td>\n      <td>...</td>\n      <td>29700</td>\n      <td>29300</td>\n      <td>32400</td>\n      <td>37100</td>\n      <td>34600</td>\n      <td>37500</td>\n      <td>37000</td>\n      <td>37300</td>\n      <td>42700</td>\n      <td>44100</td>\n    </tr>\n  </tbody>\n</table>\n<p>10 rows × 35 columns</p>\n</div>",
      "text/plain": "                        1980     1983     1984     1985     1986     1987  \\\nVariables                                                                   \nTotal                1651500  1791900  1829000  1866700  1906600  1947600   \nSingle                674100   728000   714300   726600   736500   735200   \nMarried               864600   951200  1005100  1020100  1039700  1083300   \nWidowed                97100   101700    92800    99200   108200   106900   \nDivorced/ Separated    15800    11000    16700    20800    22300    22200   \nMales                 833500   901700   912200   929800   948000   974100   \nSingle                375800   404700   393400   400100   408100   410800   \nMarried               435900   476300   499600   506500   517100   539600   \nWidowed                16000    16600    13600    16200    15500    16100   \nDivorced/ Separated     5700     4100     5600     7000     7300     7700   \n\n                        1988     1989     1990     1991  ...     2007  \\\nVariables                                                ...            \nTotal                1990000  2032400  2078800  2153700  ...  2944600   \nSingle                745700   752800   747200   760100  ...   918400   \nMarried              1112200  1137800  1176400  1240000  ...  1787100   \nWidowed               108100   116200   127300   121300  ...   155600   \nDivorced/ Separated    24100    25700    27900    32300  ...    83600   \nMales                 994400  1007900  1045600  1077800  ...  1438300   \nSingle                416100   418000   422600   424900  ...   487500   \nMarried               553300   563800   586700   621600  ...   894700   \nWidowed                17000    17900    26100    20100  ...    26400   \nDivorced/ Separated     8000     8200    10200    11100  ...    29700   \n\n                        2008     2009     2010     2011     2012     2013  \\\nVariables                                                                   \nTotal                2938800  3034800  3105700  3148700  3183000  3205900   \nSingle                918700   957600  1000500  1012000  1022600  1029300   \nMarried              1783700  1831300  1844600  1875900  1899000  1911500   \nWidowed               146900   152700   157600   157700   152300   158000   \nDivorced/ Separated    89500    93200   103100   103000   109200   107200   \nMales                1437200  1477500  1517400  1534200  1550000  1560900   \nSingle                488900   505100   527100   529600   534700   535100   \nMarried               896300   913300   928400   944300   952200   963100   \nWidowed                22700    26600    24900    25700    25700    25700   \nDivorced/ Separated    29300    32400    37100    34600    37500    37000   \n\n                        2014     2015     2016  \nVariables                                       \nTotal                3259800  3275900  3318500  \nSingle               1048100  1034500  1049200  \nMarried              1940100  1945600  1974700  \nWidowed               161100   172100   174600  \nDivorced/ Separated   110600   123600   119900  \nMales                1583900  1589600  1607500  \nSingle                538500   533200   539700  \nMarried               980800   984700   993900  \nWidowed                27300    28900    29900  \nDivorced/ Separated    37300    42700    44100  \n\n[10 rows x 35 columns]"
     },
     "execution_count": 102,
     "metadata": {},
     "output_type": "execute_result"
    }
   ],
   "source": [
    "print(\"**** Remaining dataset after dropping columns with missing data **** \")\n",
    "myDF.dropna(1)"
   ]
  },
  {
   "cell_type": "code",
   "execution_count": null,
   "metadata": {},
   "outputs": [],
   "source": []
  }
 ]
}